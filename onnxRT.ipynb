{
 "cells": [
  {
   "cell_type": "code",
   "execution_count": 4,
   "metadata": {},
   "outputs": [],
   "source": [
    "import torch\n",
    "from pyannote.audio import Model\n",
    "from pathlib import Path"
   ]
  },
  {
   "cell_type": "code",
   "execution_count": 5,
   "metadata": {},
   "outputs": [],
   "source": [
    "ckpt_path = './models/best/checkpoints/best.ckpt'\n",
    "device = 'cpu'\n",
    "dummy_input = torch.rand(1, 1, 16000)\n",
    "model = Model.from_pretrained(\n",
    "                Path(ckpt_path),\n",
    "                map_location=device,\n",
    "                strict=False,\n",
    "            )\n",
    "torch.onnx.export(model, dummy_input, f'best.onnx')"
   ]
  },
  {
   "cell_type": "code",
   "execution_count": 3,
   "metadata": {},
   "outputs": [],
   "source": [
    "onnx_path = './best.onnx'\n",
    "from openvino.inference_engine import IECore\n",
    "import soundfile as sf\n",
    "import numpy as np\n",
    "ie = IECore()\n",
    "model_RT = ie.read_network(model=onnx_path)\n"
   ]
  },
  {
   "cell_type": "code",
   "execution_count": 12,
   "metadata": {},
   "outputs": [
    {
     "ename": "AttributeError",
     "evalue": "'numpy.ndarray' object has no attribute 'items'",
     "output_type": "error",
     "traceback": [
      "\u001b[1;31m---------------------------------------------------------------------------\u001b[0m",
      "\u001b[1;31mAttributeError\u001b[0m                            Traceback (most recent call last)",
      "Cell \u001b[1;32mIn[12], line 8\u001b[0m\n\u001b[0;32m      6\u001b[0m audio \u001b[39m=\u001b[39m np\u001b[39m.\u001b[39marray(audio)\u001b[39m.\u001b[39mastype(np\u001b[39m.\u001b[39mfloat32)\n\u001b[0;32m      7\u001b[0m audio \u001b[39m=\u001b[39m audio\u001b[39m.\u001b[39mreshape(\u001b[39m1\u001b[39m, \u001b[39m1\u001b[39m, \u001b[39m-\u001b[39m\u001b[39m1\u001b[39m)\n\u001b[1;32m----> 8\u001b[0m output \u001b[39m=\u001b[39m model_ex\u001b[39m.\u001b[39;49minfer(audio)\n",
      "File \u001b[1;32mie_api.pyx:1081\u001b[0m, in \u001b[0;36mopenvino.inference_engine.ie_api.ExecutableNetwork.infer\u001b[1;34m()\u001b[0m\n",
      "File \u001b[1;32mie_api.pyx:1432\u001b[0m, in \u001b[0;36mopenvino.inference_engine.ie_api.InferRequest.infer\u001b[1;34m()\u001b[0m\n",
      "File \u001b[1;32mie_api.pyx:1453\u001b[0m, in \u001b[0;36mopenvino.inference_engine.ie_api.InferRequest.infer\u001b[1;34m()\u001b[0m\n",
      "File \u001b[1;32mie_api.pyx:1579\u001b[0m, in \u001b[0;36mopenvino.inference_engine.ie_api.InferRequest._fill_inputs\u001b[1;34m()\u001b[0m\n",
      "\u001b[1;31mAttributeError\u001b[0m: 'numpy.ndarray' object has no attribute 'items'"
     ]
    }
   ],
   "source": [
    "test_dir = './test_data/'\n",
    "out_dir = './out/'\n",
    "test_sample = './test_data/home.wav'\n",
    "\n",
    "audio, sample_rate = sf.read(test_sample)\n",
    "audio = np.array(audio).astype(np.float32)\n",
    "audio = audio.reshape(1, 1, -1)\n",
    "output = model_ex.infer(audio)"
   ]
  },
  {
   "cell_type": "code",
   "execution_count": null,
   "metadata": {},
   "outputs": [],
   "source": []
  },
  {
   "cell_type": "code",
   "execution_count": null,
   "metadata": {},
   "outputs": [],
   "source": []
  }
 ],
 "metadata": {
  "kernelspec": {
   "display_name": "base",
   "language": "python",
   "name": "python3"
  },
  "language_info": {
   "codemirror_mode": {
    "name": "ipython",
    "version": 3
   },
   "file_extension": ".py",
   "mimetype": "text/x-python",
   "name": "python",
   "nbconvert_exporter": "python",
   "pygments_lexer": "ipython3",
   "version": "3.8.17"
  },
  "orig_nbformat": 4
 },
 "nbformat": 4,
 "nbformat_minor": 2
}
